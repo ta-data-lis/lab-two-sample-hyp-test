{
 "cells": [
  {
   "cell_type": "markdown",
   "metadata": {},
   "source": [
    "# Before your start:\n",
    "- Read the README.md file\n",
    "- Comment as much as you can and use the resources (README.md file)\n",
    "- Happy learning!\n",
    "\n",
    "- **Consider a significance level of 5% for all tests.**"
   ]
  },
  {
   "cell_type": "code",
   "execution_count": 1,
   "metadata": {},
   "outputs": [],
   "source": [
    "# import numpy and pandas\n",
    "import pandas as pd\n",
    "import numpy as np\n",
    "import matplotlib.pyplot as plt\n",
    "import seaborn as sns\n",
    "import scipy.stats as st\n"
   ]
  },
  {
   "cell_type": "markdown",
   "metadata": {},
   "source": [
    "# Challenge 1 - Independent Sample T-tests\n",
    "\n",
    "In this challenge, we will be using the Pokemon dataset. Before applying statistical methods to this data, let's first examine the data.\n",
    "\n",
    "To load the data, run the code below."
   ]
  },
  {
   "cell_type": "code",
   "execution_count": 2,
   "metadata": {},
   "outputs": [],
   "source": [
    "# Run this code:\n",
    "\n",
    "pokemon = pd.read_csv('../pokemon.csv')"
   ]
  },
  {
   "cell_type": "markdown",
   "metadata": {},
   "source": [
    "Let's start off by looking at the `head` function in the cell below."
   ]
  },
  {
   "cell_type": "code",
   "execution_count": 3,
   "metadata": {},
   "outputs": [
    {
     "data": {
      "text/html": [
       "<div>\n",
       "<style scoped>\n",
       "    .dataframe tbody tr th:only-of-type {\n",
       "        vertical-align: middle;\n",
       "    }\n",
       "\n",
       "    .dataframe tbody tr th {\n",
       "        vertical-align: top;\n",
       "    }\n",
       "\n",
       "    .dataframe thead th {\n",
       "        text-align: right;\n",
       "    }\n",
       "</style>\n",
       "<table border=\"1\" class=\"dataframe\">\n",
       "  <thead>\n",
       "    <tr style=\"text-align: right;\">\n",
       "      <th></th>\n",
       "      <th>#</th>\n",
       "      <th>Name</th>\n",
       "      <th>Type 1</th>\n",
       "      <th>Type 2</th>\n",
       "      <th>Total</th>\n",
       "      <th>HP</th>\n",
       "      <th>Attack</th>\n",
       "      <th>Defense</th>\n",
       "      <th>Sp. Atk</th>\n",
       "      <th>Sp. Def</th>\n",
       "      <th>Speed</th>\n",
       "      <th>Generation</th>\n",
       "      <th>Legendary</th>\n",
       "    </tr>\n",
       "  </thead>\n",
       "  <tbody>\n",
       "    <tr>\n",
       "      <th>0</th>\n",
       "      <td>1</td>\n",
       "      <td>Bulbasaur</td>\n",
       "      <td>Grass</td>\n",
       "      <td>Poison</td>\n",
       "      <td>318</td>\n",
       "      <td>45</td>\n",
       "      <td>49</td>\n",
       "      <td>49</td>\n",
       "      <td>65</td>\n",
       "      <td>65</td>\n",
       "      <td>45</td>\n",
       "      <td>1</td>\n",
       "      <td>False</td>\n",
       "    </tr>\n",
       "    <tr>\n",
       "      <th>1</th>\n",
       "      <td>2</td>\n",
       "      <td>Ivysaur</td>\n",
       "      <td>Grass</td>\n",
       "      <td>Poison</td>\n",
       "      <td>405</td>\n",
       "      <td>60</td>\n",
       "      <td>62</td>\n",
       "      <td>63</td>\n",
       "      <td>80</td>\n",
       "      <td>80</td>\n",
       "      <td>60</td>\n",
       "      <td>1</td>\n",
       "      <td>False</td>\n",
       "    </tr>\n",
       "    <tr>\n",
       "      <th>2</th>\n",
       "      <td>3</td>\n",
       "      <td>Venusaur</td>\n",
       "      <td>Grass</td>\n",
       "      <td>Poison</td>\n",
       "      <td>525</td>\n",
       "      <td>80</td>\n",
       "      <td>82</td>\n",
       "      <td>83</td>\n",
       "      <td>100</td>\n",
       "      <td>100</td>\n",
       "      <td>80</td>\n",
       "      <td>1</td>\n",
       "      <td>False</td>\n",
       "    </tr>\n",
       "  </tbody>\n",
       "</table>\n",
       "</div>"
      ],
      "text/plain": [
       "   #       Name Type 1  Type 2  Total  HP  Attack  Defense  Sp. Atk  Sp. Def  \\\n",
       "0  1  Bulbasaur  Grass  Poison    318  45      49       49       65       65   \n",
       "1  2    Ivysaur  Grass  Poison    405  60      62       63       80       80   \n",
       "2  3   Venusaur  Grass  Poison    525  80      82       83      100      100   \n",
       "\n",
       "   Speed  Generation  Legendary  \n",
       "0     45           1      False  \n",
       "1     60           1      False  \n",
       "2     80           1      False  "
      ]
     },
     "execution_count": 3,
     "metadata": {},
     "output_type": "execute_result"
    }
   ],
   "source": [
    "# Your code here:\n",
    "\n",
    "pokemon[:3]"
   ]
  },
  {
   "cell_type": "markdown",
   "metadata": {},
   "source": [
    "The first thing we would like to do is compare the legendary Pokemon to the regular Pokemon. To do this, we should examine the data further. What is the count of legendary vs. non legendary Pokemons?"
   ]
  },
  {
   "cell_type": "code",
   "execution_count": 4,
   "metadata": {},
   "outputs": [
    {
     "name": "stdout",
     "output_type": "stream",
     "text": [
      "The legendary pokemon are 65\n",
      "The non-legendary pokemon are 735\n"
     ]
    }
   ],
   "source": [
    "# Your code here:\n",
    "\n",
    "legend = pokemon[pokemon['Legendary']==True]\n",
    "not_legend = pokemon[pokemon['Legendary']==False]\n",
    "\n",
    "print('The legendary pokemon are', legend['Name'].count())\n",
    "print('The non-legendary pokemon are', not_legend['Name'].count())\n"
   ]
  },
  {
   "cell_type": "markdown",
   "metadata": {},
   "source": [
    "Compute the mean and standard deviation of the total points for both legendary and non-legendary Pokemon."
   ]
  },
  {
   "cell_type": "code",
   "execution_count": 5,
   "metadata": {},
   "outputs": [],
   "source": [
    "# Your code here:\n",
    "\n",
    "mean_leg = legend['Total'].mean()\n",
    "std_leg = legend['Total'].std()\n",
    "\n",
    "mean_no_leg = not_legend['Total'].mean()\n",
    "std_no_leg = not_legend['Total'].std()"
   ]
  },
  {
   "cell_type": "markdown",
   "metadata": {},
   "source": [
    "The computation of the mean might give us a clue regarding how the statistical test may turn out; However, it certainly does not prove whether there is a significant difference between the two groups.\n",
    "\n",
    "In the cell below, use the `ttest_ind` function in `scipy.stats` to compare the the total points for legendary and non-legendary Pokemon. Since we do not have any information about the population, assume the variances are not equal."
   ]
  },
  {
   "cell_type": "code",
   "execution_count": 6,
   "metadata": {},
   "outputs": [
    {
     "name": "stdout",
     "output_type": "stream",
     "text": [
      "stat 25.8335743895517\n",
      "p-value= 9.357954335957446e-47\n",
      "Reject the null hypothesis\n"
     ]
    }
   ],
   "source": [
    "# Your code here:\n",
    "\n",
    "# Set hypotesis --> INDEPENDENT T-TEST TWO-TAILS\n",
    "\n",
    "# H0: mean of Total points of legendary pokemons = mean of Total points of non-legendary pokemons\n",
    "# H1: mean of Total points of legendary pokemons != mean of Total points of non-legendary pokemons\n",
    "\n",
    "# 2. Significance level\n",
    "alpha = 0.05\n",
    "\n",
    "# 3. Sample\n",
    "legend\n",
    "not_legend\n",
    "\n",
    "# 4-5. Stat and p-value\n",
    "stat, p_value = st.ttest_ind(legend['Total'], not_legend['Total'], equal_var=False)\n",
    "print('stat', stat)\n",
    "print('p-value=', p_value)\n",
    "\n",
    "# 6. Take the decision\n",
    "if p_value < alpha:\n",
    "    print('Reject the null hypothesis')\n",
    "else:\n",
    "    print('Do not reject the null hypothesis')"
   ]
  },
  {
   "cell_type": "markdown",
   "metadata": {},
   "source": [
    "What do you conclude from this test? Write your conclusions below."
   ]
  },
  {
   "cell_type": "code",
   "execution_count": 7,
   "metadata": {},
   "outputs": [],
   "source": [
    "# Your conclusions here:\n",
    "\n",
    "# From the t-test of independent samples we conclude that the\n",
    "# mean of Total points of legendary and non-legendary pokemons is different."
   ]
  },
  {
   "cell_type": "markdown",
   "metadata": {},
   "source": [
    "How about we try to compare the different types of pokemon? In the cell below, list the types of Pokemon from column `Type 1` and the count of each type."
   ]
  },
  {
   "cell_type": "code",
   "execution_count": 8,
   "metadata": {},
   "outputs": [
    {
     "data": {
      "text/html": [
       "<div>\n",
       "<style scoped>\n",
       "    .dataframe tbody tr th:only-of-type {\n",
       "        vertical-align: middle;\n",
       "    }\n",
       "\n",
       "    .dataframe tbody tr th {\n",
       "        vertical-align: top;\n",
       "    }\n",
       "\n",
       "    .dataframe thead th {\n",
       "        text-align: right;\n",
       "    }\n",
       "</style>\n",
       "<table border=\"1\" class=\"dataframe\">\n",
       "  <thead>\n",
       "    <tr style=\"text-align: right;\">\n",
       "      <th></th>\n",
       "      <th>Name</th>\n",
       "    </tr>\n",
       "    <tr>\n",
       "      <th>Type 1</th>\n",
       "      <th></th>\n",
       "    </tr>\n",
       "  </thead>\n",
       "  <tbody>\n",
       "    <tr>\n",
       "      <th>Bug</th>\n",
       "      <td>69</td>\n",
       "    </tr>\n",
       "    <tr>\n",
       "      <th>Dark</th>\n",
       "      <td>31</td>\n",
       "    </tr>\n",
       "    <tr>\n",
       "      <th>Dragon</th>\n",
       "      <td>32</td>\n",
       "    </tr>\n",
       "    <tr>\n",
       "      <th>Electric</th>\n",
       "      <td>44</td>\n",
       "    </tr>\n",
       "    <tr>\n",
       "      <th>Fairy</th>\n",
       "      <td>17</td>\n",
       "    </tr>\n",
       "    <tr>\n",
       "      <th>Fighting</th>\n",
       "      <td>27</td>\n",
       "    </tr>\n",
       "    <tr>\n",
       "      <th>Fire</th>\n",
       "      <td>52</td>\n",
       "    </tr>\n",
       "    <tr>\n",
       "      <th>Flying</th>\n",
       "      <td>4</td>\n",
       "    </tr>\n",
       "    <tr>\n",
       "      <th>Ghost</th>\n",
       "      <td>32</td>\n",
       "    </tr>\n",
       "    <tr>\n",
       "      <th>Grass</th>\n",
       "      <td>70</td>\n",
       "    </tr>\n",
       "    <tr>\n",
       "      <th>Ground</th>\n",
       "      <td>32</td>\n",
       "    </tr>\n",
       "    <tr>\n",
       "      <th>Ice</th>\n",
       "      <td>24</td>\n",
       "    </tr>\n",
       "    <tr>\n",
       "      <th>Normal</th>\n",
       "      <td>98</td>\n",
       "    </tr>\n",
       "    <tr>\n",
       "      <th>Poison</th>\n",
       "      <td>28</td>\n",
       "    </tr>\n",
       "    <tr>\n",
       "      <th>Psychic</th>\n",
       "      <td>57</td>\n",
       "    </tr>\n",
       "    <tr>\n",
       "      <th>Rock</th>\n",
       "      <td>44</td>\n",
       "    </tr>\n",
       "    <tr>\n",
       "      <th>Steel</th>\n",
       "      <td>27</td>\n",
       "    </tr>\n",
       "    <tr>\n",
       "      <th>Water</th>\n",
       "      <td>112</td>\n",
       "    </tr>\n",
       "  </tbody>\n",
       "</table>\n",
       "</div>"
      ],
      "text/plain": [
       "          Name\n",
       "Type 1        \n",
       "Bug         69\n",
       "Dark        31\n",
       "Dragon      32\n",
       "Electric    44\n",
       "Fairy       17\n",
       "Fighting    27\n",
       "Fire        52\n",
       "Flying       4\n",
       "Ghost       32\n",
       "Grass       70\n",
       "Ground      32\n",
       "Ice         24\n",
       "Normal      98\n",
       "Poison      28\n",
       "Psychic     57\n",
       "Rock        44\n",
       "Steel       27\n",
       "Water      112"
      ]
     },
     "execution_count": 8,
     "metadata": {},
     "output_type": "execute_result"
    }
   ],
   "source": [
    "# Your code here:\n",
    "pokemon.groupby('Type 1').agg({'Name':'count'})"
   ]
  },
  {
   "cell_type": "markdown",
   "metadata": {},
   "source": [
    "Since water is the largest group of Pokemon, compare the mean and standard deviation of water Pokemon to all other Pokemon."
   ]
  },
  {
   "cell_type": "code",
   "execution_count": 9,
   "metadata": {},
   "outputs": [
    {
     "name": "stdout",
     "output_type": "stream",
     "text": [
      "435.85901162790697\n",
      "113.18826606431458\n",
      "435.85901162790697\n",
      "121.09168230208066\n"
     ]
    }
   ],
   "source": [
    "# Your code here:\n",
    "\n",
    "water_mean = pokemon[pokemon['Type 1'] != 'Water']['Total'].mean()\n",
    "water_std = pokemon[pokemon['Type 1'] == 'Water']['Total'].std(ddof=1)\n",
    "\n",
    "no_water_mean = pokemon[pokemon['Type 1'] != 'Water']['Total'].mean()\n",
    "no_water_std = pokemon[pokemon['Type 1'] != 'Water']['Total'].std(ddof=1)\n",
    "\n",
    "print(water_mean)\n",
    "print(water_std)\n",
    "print(no_water_mean)\n",
    "print(no_water_std)"
   ]
  },
  {
   "cell_type": "markdown",
   "metadata": {},
   "source": [
    "Perform a hypothesis test comparing the mean of total points for water Pokemon to all non-water Pokemon. Assume the variances are equal. "
   ]
  },
  {
   "cell_type": "code",
   "execution_count": 10,
   "metadata": {},
   "outputs": [
    {
     "name": "stdout",
     "output_type": "stream",
     "text": [
      "stat -0.4418547448849676\n",
      "p-value= 0.6587140317488793\n",
      "Do not reject the null hypothesis\n"
     ]
    }
   ],
   "source": [
    "# Your code here:\n",
    "\n",
    "# H0: water mean total points = non-water mean total points \n",
    "# H1: water mean total points != non-water mean total points \n",
    "\n",
    "# 2. Significance level\n",
    "alpha = 0.05\n",
    "\n",
    "# 3. Sample\n",
    "water= pokemon[pokemon['Type 1'] == 'Water']\n",
    "no_water =pokemon[pokemon['Type 1'] != 'Water']\n",
    "\n",
    "# 4-5. Stat and p-value\n",
    "stat, p_value = stat, p_value = st.ttest_ind(water['Total'], no_water['Total'], equal_var=True)\n",
    "print('stat', stat)\n",
    "print('p-value=', p_value)\n",
    "\n",
    "# 6. Take the decision\n",
    "if p_value < alpha:\n",
    "    print('Reject the null hypothesis')\n",
    "else:\n",
    "    print('Do not reject the null hypothesis')"
   ]
  },
  {
   "cell_type": "markdown",
   "metadata": {},
   "source": [
    "Write your conclusion below."
   ]
  },
  {
   "cell_type": "code",
   "execution_count": 11,
   "metadata": {},
   "outputs": [],
   "source": [
    "# Your conclusions here:\n",
    "\n",
    "# From the t-test of independent samples we conclude that the\n",
    "# mean of Total points of water pokemons does not differ significantly from the \n",
    "# mean of Total points of non-water pokemons."
   ]
  },
  {
   "cell_type": "markdown",
   "metadata": {},
   "source": [
    "# Challenge 2 - Matched Pairs Test\n",
    "\n",
    "In this challenge we will compare dependent samples of data describing our Pokemon. Our goal is to see whether there is a significant difference between each Pokemon's defense and attack scores. Our hypothesis is that the defense and attack scores are equal. In the cell below, import the `ttest_rel` function from `scipy.stats` and compare the two columns to see if there is a statistically significant difference between them."
   ]
  },
  {
   "cell_type": "code",
   "execution_count": 12,
   "metadata": {},
   "outputs": [
    {
     "name": "stdout",
     "output_type": "stream",
     "text": [
      "stat 4.325566393330478\n",
      "p-value= 1.7140303479358558e-05\n",
      "Reject the null hypothesis\n"
     ]
    }
   ],
   "source": [
    "# Your code here:\n",
    "# H0: defense of each pokemon = attack of each pokemon \n",
    "# H1: defense of each pokemon != attack of each pokemon \n",
    "\n",
    "# 2. Significance level\n",
    "alpha = 0.05\n",
    "\n",
    "# 3. Sample\n",
    "# pokemon[pokemon['Attack']]\n",
    "# pokemon[pokemon['Defense']]\n",
    "\n",
    "# 4-5. Stat and p-value\n",
    "stat, p_value = st.ttest_rel(pokemon['Attack'], pokemon['Defense'])\n",
    "print('stat', stat)\n",
    "print('p-value=', p_value)\n",
    "\n",
    "# 6. Take the decision\n",
    "if p_value < alpha:\n",
    "    print('Reject the null hypothesis')\n",
    "else:\n",
    "    print('Do not reject the null hypothesis')"
   ]
  },
  {
   "cell_type": "markdown",
   "metadata": {},
   "source": [
    "Describe the results of the test in the cell below."
   ]
  },
  {
   "cell_type": "code",
   "execution_count": 13,
   "metadata": {},
   "outputs": [],
   "source": [
    "# Your conclusions here:\n",
    "\n",
    "# From the t-test of matched samples we conclude that the\n",
    "# mean of Attack and the Defense of each pokemon are significantly different."
   ]
  },
  {
   "cell_type": "markdown",
   "metadata": {},
   "source": [
    "We are also curious about whether therer is a significant difference between the mean of special defense and the mean of special attack. Perform the hypothesis test in the cell below. "
   ]
  },
  {
   "cell_type": "code",
   "execution_count": 14,
   "metadata": {},
   "outputs": [
    {
     "name": "stdout",
     "output_type": "stream",
     "text": [
      "stat 0.853986188453353\n",
      "p-value= 0.3933685997548122\n",
      "Do not reject the null hypothesis\n"
     ]
    }
   ],
   "source": [
    "# Your code here:\n",
    "\n",
    "# H0: special defense of each pokemon = special attack of each pokemon \n",
    "# H1: special defense of each pokemon != special attack of each pokemon \n",
    "\n",
    "# 2. Significance level\n",
    "alpha = 0.05\n",
    "\n",
    "# 3. Sample\n",
    "# pokemon[pokemon['Sp. Atk']]\n",
    "# pokemon[pokemon['Sp. Def']]\n",
    "\n",
    "# 4-5. Stat and p-value\n",
    "stat, p_value = st.ttest_rel(pokemon['Sp. Atk'], pokemon['Sp. Def'])\n",
    "print('stat', stat)\n",
    "print('p-value=', p_value)\n",
    "\n",
    "# 6. Take the decision\n",
    "if p_value < alpha:\n",
    "    print('Reject the null hypothesis')\n",
    "else:\n",
    "    print('Do not reject the null hypothesis')\n"
   ]
  },
  {
   "cell_type": "markdown",
   "metadata": {},
   "source": [
    "Describe the results of the test in the cell below."
   ]
  },
  {
   "cell_type": "code",
   "execution_count": 15,
   "metadata": {},
   "outputs": [],
   "source": [
    "# Your conclusions here:\n",
    "\n",
    "# From the t-test of matched samples we conclude that the\n",
    "# mean of the Special Attack and the Special Defense of each pokemon \n",
    "# are actually no significantly different, so we do not reject the null hypothesis."
   ]
  },
  {
   "cell_type": "markdown",
   "metadata": {},
   "source": [
    "As you may recall, a two sample matched pairs test can also be expressed as a one sample test of the difference between the two dependent columns.\n",
    "\n",
    "Import the `ttest_1samp` function and perform a one sample t-test of the difference between defense and attack. Test the hypothesis that the difference between the means is zero. Confirm that the results of the test are the same."
   ]
  },
  {
   "cell_type": "code",
   "execution_count": 16,
   "metadata": {},
   "outputs": [
    {
     "name": "stdout",
     "output_type": "stream",
     "text": [
      "0.853986188453353\n",
      "0.3933685997548122\n",
      "Do not reject the null hypothesis\n"
     ]
    }
   ],
   "source": [
    "# Your code here:\n",
    "\n",
    "# H0: mean special defense - mean special attack  = 0\n",
    "# H1: mean special defense - mean special attack  != 0\n",
    "\n",
    "# 2. Significance level\n",
    "alpha = 0.05\n",
    "\n",
    "# 3. Sample\n",
    "pokemon['Diff_Atk_Def'] = pokemon['Sp. Atk'] - pokemon['Sp. Def']\n",
    "pokemon['Diff_Atk_Def'].mean()                        \n",
    "\n",
    "# 4-5. Stat and p-value\n",
    "stat, p_value = st.ttest_1samp(pokemon['Diff_Atk_Def'], 0)\n",
    "print(stat)\n",
    "print(p_value)\n",
    "\n",
    "# 6. Take the decision\n",
    "if p_value < alpha:\n",
    "    print('Reject the null hypothesis')\n",
    "else:\n",
    "    print('Do not reject the null hypothesis')"
   ]
  },
  {
   "cell_type": "markdown",
   "metadata": {},
   "source": [
    "# Bonus Challenge - The Chi-Square Test\n",
    "\n",
    "The Chi-Square test is used to determine whether there is a statistically significant difference in frequencies. In other words, we are testing whether there is a relationship between categorical variables or rather when the variables are independent. This test is an alternative to Fisher's exact test and is used in scenarios where sample sizes are larger. However, with a large enough sample size, both tests produce similar results. Read more about the Chi Squared test [here](https://en.wikipedia.org/wiki/Chi-squared_test).\n",
    "\n",
    "In the cell below, create a contingency table using `pd.crosstab` comparing whether a Pokemon is legenadary or not and whether the Type 1 of a Pokemon is water or not."
   ]
  },
  {
   "cell_type": "code",
   "execution_count": 49,
   "metadata": {},
   "outputs": [],
   "source": [
    "pokemon['is_Water'] = pokemon['Type 1'] == 'Water'\n",
    "# pokemon"
   ]
  },
  {
   "cell_type": "code",
   "execution_count": 50,
   "metadata": {},
   "outputs": [
    {
     "data": {
      "text/html": [
       "<div>\n",
       "<style scoped>\n",
       "    .dataframe tbody tr th:only-of-type {\n",
       "        vertical-align: middle;\n",
       "    }\n",
       "\n",
       "    .dataframe tbody tr th {\n",
       "        vertical-align: top;\n",
       "    }\n",
       "\n",
       "    .dataframe thead th {\n",
       "        text-align: right;\n",
       "    }\n",
       "</style>\n",
       "<table border=\"1\" class=\"dataframe\">\n",
       "  <thead>\n",
       "    <tr style=\"text-align: right;\">\n",
       "      <th>Legendary</th>\n",
       "      <th>False</th>\n",
       "      <th>True</th>\n",
       "    </tr>\n",
       "    <tr>\n",
       "      <th>is_Water</th>\n",
       "      <th></th>\n",
       "      <th></th>\n",
       "    </tr>\n",
       "  </thead>\n",
       "  <tbody>\n",
       "    <tr>\n",
       "      <th>False</th>\n",
       "      <td>627</td>\n",
       "      <td>61</td>\n",
       "    </tr>\n",
       "    <tr>\n",
       "      <th>True</th>\n",
       "      <td>108</td>\n",
       "      <td>4</td>\n",
       "    </tr>\n",
       "  </tbody>\n",
       "</table>\n",
       "</div>"
      ],
      "text/plain": [
       "Legendary  False  True\n",
       "is_Water              \n",
       "False        627    61\n",
       "True         108     4"
      ]
     },
     "execution_count": 50,
     "metadata": {},
     "output_type": "execute_result"
    }
   ],
   "source": [
    "# Your code here:\n",
    "ct = pd.crosstab(index=pokemon['is_Water'], columns=pokemon['Legendary'])\n",
    "ct"
   ]
  },
  {
   "cell_type": "markdown",
   "metadata": {},
   "source": [
    "Perform a chi-squared test using the `chi2_contingency` function in `scipy.stats`. You can read the documentation of the function [here](https://docs.scipy.org/doc/scipy-0.15.1/reference/generated/scipy.stats.chi2_contingency.html)."
   ]
  },
  {
   "cell_type": "code",
   "execution_count": 54,
   "metadata": {},
   "outputs": [
    {
     "name": "stdout",
     "output_type": "stream",
     "text": [
      "stat = 2.9429200762850503\n",
      "p_value = 0.08625467249550949\n"
     ]
    }
   ],
   "source": [
    "# Your code here:\n",
    "\n",
    "# H0: legendary and non-legendary is independent on being type water \n",
    "# H1: legendary and non-legendary is dependent on being type water \n",
    "\n",
    "# Significance level\n",
    "alpha = 0.05\n",
    "\n",
    "# Sample\n",
    "ct\n",
    "\n",
    "# Stats and p_value\n",
    "stat, p_value, ddof, exp_values = st.chi2_contingency(ct)\n",
    "print('stat =', stat)\n",
    "print('p_value =', p_value)\n",
    "\n"
   ]
  },
  {
   "cell_type": "markdown",
   "metadata": {},
   "source": [
    "Based on a 95% confidence, should we reject the null hypothesis?"
   ]
  },
  {
   "cell_type": "code",
   "execution_count": 55,
   "metadata": {},
   "outputs": [
    {
     "name": "stdout",
     "output_type": "stream",
     "text": [
      "Do not reject the null hypothesis\n"
     ]
    }
   ],
   "source": [
    "# Your answer here:\n",
    "# Decision\n",
    "if p_value < alpha:\n",
    "    print('Reject the null hypothesis')\n",
    "else:\n",
    "    print('Do not reject the null hypothesis')"
   ]
  },
  {
   "cell_type": "code",
   "execution_count": 56,
   "metadata": {},
   "outputs": [
    {
     "name": "stdout",
     "output_type": "stream",
     "text": [
      "Done\n"
     ]
    }
   ],
   "source": [
    "print('Done')"
   ]
  },
  {
   "cell_type": "code",
   "execution_count": null,
   "metadata": {},
   "outputs": [],
   "source": []
  }
 ],
 "metadata": {
  "kernelspec": {
   "display_name": "Python 3 (ipykernel)",
   "language": "python",
   "name": "python3"
  },
  "language_info": {
   "codemirror_mode": {
    "name": "ipython",
    "version": 3
   },
   "file_extension": ".py",
   "mimetype": "text/x-python",
   "name": "python",
   "nbconvert_exporter": "python",
   "pygments_lexer": "ipython3",
   "version": "3.9.7"
  }
 },
 "nbformat": 4,
 "nbformat_minor": 2
}
